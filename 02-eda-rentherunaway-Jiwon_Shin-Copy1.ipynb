{
 "cells": [
  {
   "cell_type": "markdown",
   "metadata": {},
   "source": [
    "# Rent The Runway EDA\n",
    "\n",
    "- NA included: https://rstudio.scholar.rcac.purdue.edu:8787/s/13b44cfc78a310c5c28e2/files/report.html\n",
    "- NA excluded: https://rstudio.scholar.rcac.purdue.edu:8787/s/13b44cfc78a310c5c28e2/files/report.html"
   ]
  },
  {
   "cell_type": "code",
   "execution_count": 1,
   "metadata": {},
   "outputs": [
    {
     "name": "stderr",
     "output_type": "stream",
     "text": [
      "Installing package into ‘/home/song718/R/x86_64-pc-linux-gnu-library/4.0’\n",
      "(as ‘lib’ is unspecified)\n",
      "also installing the dependencies ‘igraph’, ‘networkD3’\n",
      "\n",
      "Warning message in install.packages(\"DataExplorer\"):\n",
      "“installation of package ‘igraph’ had non-zero exit status”Warning message in install.packages(\"DataExplorer\"):\n",
      "“installation of package ‘networkD3’ had non-zero exit status”Warning message in install.packages(\"DataExplorer\"):\n",
      "“installation of package ‘DataExplorer’ had non-zero exit status”Installing package into ‘/home/song718/R/x86_64-pc-linux-gnu-library/4.0’\n",
      "(as ‘lib’ is unspecified)\n",
      "Installing package into ‘/home/song718/R/x86_64-pc-linux-gnu-library/4.0’\n",
      "(as ‘lib’ is unspecified)\n",
      "Warning message in install.packages(\"jsonlite\"):\n",
      "“installation of package ‘jsonlite’ had non-zero exit status”"
     ]
    }
   ],
   "source": [
    "install.packages(\"DataExplorer\")\n",
    "install.packages(\"readr\")\n",
    "install.packages(\"jsonlite\")"
   ]
  },
  {
   "cell_type": "code",
   "execution_count": 3,
   "metadata": {},
   "outputs": [
    {
     "name": "stderr",
     "output_type": "stream",
     "text": [
      "Installing package into ‘/home/song718/R/x86_64-pc-linux-gnu-library/4.0’\n",
      "(as ‘lib’ is unspecified)\n"
     ]
    }
   ],
   "source": [
    "install.packages(\"corrplot\")"
   ]
  },
  {
   "cell_type": "code",
   "execution_count": 5,
   "metadata": {},
   "outputs": [
    {
     "name": "stderr",
     "output_type": "stream",
     "text": [
      "corrplot 0.90 loaded\n",
      "Warning message in file(con, \"r\"):\n",
      "“cannot open file 'depot/tdm-ff/data/renttherunway_final_data.json': No such file or directory”"
     ]
    },
    {
     "ename": "ERROR",
     "evalue": "Error in file(con, \"r\"): cannot open the connection\n",
     "output_type": "error",
     "traceback": [
      "Error in file(con, \"r\"): cannot open the connection\nTraceback:\n",
      "1. fromJSON(sprintf(\"[%s]\", paste(readLines(rtr_file), collapse = \",\")))",
      "2. sprintf(\"[%s]\", paste(readLines(rtr_file), collapse = \",\"))",
      "3. paste(readLines(rtr_file), collapse = \",\")",
      "4. readLines(rtr_file)",
      "5. file(con, \"r\")"
     ]
    }
   ],
   "source": [
    "\n",
    "library(readr)\n",
    "library(jsonlite)\n",
    "library(corrplot)\n",
    "\n",
    "# Reading File\n",
    "rtr_file <- \"depot/tdm-ff/data/renttherunway_final_data.json\"\n",
    "rtr <- fromJSON(sprintf(\"[%s]\", paste(readLines(rtr_file), collapse=\",\")))\n",
    "\n",
    "print(head(rtr))\n",
    "print(colnames(rtr))\n",
    "print(summary(rtr))\n",
    "\n",
    "# Selecting Columns\n",
    "rtr_data <- rtr[, c(\"fit\",\"bust size\",\"item_id\",\"weight\",\"body type\",\"category\",\"height\",\"size\",\"age\")]\n",
    "\n",
    "print(head(rtr_data))\n",
    "# Refining Data\n",
    "\n",
    "### Character -> Factor\n",
    "\n",
    "print(rtr_data$fit)\n",
    "\n",
    "rtr_data$fit <- factor(rtr_data$fit, levels = c(\"small\",\"fit\",\"large\"))\n",
    "rtr_data$`bust size_num` <- str_sub(rtr_data$`bust size`, 1, 2)\n",
    "rtr_data$`bust size_alp` <- str_sub(rtr_data$`bust size`, 3,3)\n",
    "rtr_data$`bust size_num` <- as.numeric(rtr_data$`bust size_num`)\n",
    "\n",
    "rtr_data$`bust size_alp` <- as.character(rtr_data$`bust size_alp`)\n",
    "rtr_data$`bust size_alp` <- as.factor(rtr_data$`bust size_alp`)\n",
    "\n",
    "rtr_data$item_id <- as.numeric(rtr_data$item_id)\n",
    "rtr_data$weight <- str_remove(rtr_data$weight, \"lbs\")\n",
    "rtr_data$weight <- as.numeric(rtr_data$weight)\n",
    "\n",
    "rtr_data <- rtr_data[,-2]\n",
    "rtr_data$`body type` <- as.factor(rtr_data$`body type`)\n",
    "rtr_data$category <- as.factor(rtr_data$category)\n",
    "\n",
    "str(rtr_data)\n",
    "rtr_data$height <- str_remove(rtr_data$height, \"' \") \n",
    "rtr_data$height <- str_remove(rtr_data$height, \"\\\"\") \n",
    "rtr_data$height <- as.numeric(rtr_data$height)\n",
    "rtr_data$age <- as.numeric(rtr_data$age)\n",
    "  \n",
    "str(rtr_data)\n",
    "\n",
    "\n",
    "\n",
    "  "
   ]
  },
  {
   "cell_type": "code",
   "execution_count": null,
   "metadata": {
    "collapsed": true
   },
   "outputs": [],
   "source": [
    "# Deleting Missing Values\n",
    "rtr_data_rmna <- na.omit(rtr_data)\n",
    "create_report(rtr_data_rmna)"
   ]
  }
 ],
 "metadata": {
  "kernelspec": {
   "display_name": "R 4.0.0",
   "language": "R",
   "name": "ir-4.0.0"
  },
  "language_info": {
   "codemirror_mode": "r",
   "file_extension": ".r",
   "mimetype": "text/x-r-source",
   "name": "R",
   "pygments_lexer": "r",
   "version": "4.0.0"
  }
 },
 "nbformat": 4,
 "nbformat_minor": 2
}
