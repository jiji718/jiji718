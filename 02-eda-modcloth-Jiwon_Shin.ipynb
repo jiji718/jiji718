{
 "cells": [
  {
   "cell_type": "markdown",
   "metadata": {},
   "source": [
    "# Mod Cloth EDA\n",
    "\n",
    "- NA included: https://rstudio.scholar.rcac.purdue.edu:8787/s/13b44cfc78a310c5c28e2/files/report.html\n",
    "- NA excluded: "
   ]
  },
  {
   "cell_type": "code",
   "execution_count": 3,
   "metadata": {
    "collapsed": true
   },
   "outputs": [
    {
     "name": "stderr",
     "output_type": "stream",
     "text": [
      "Installing package into ‘/home/song718/R/x86_64-pc-linux-gnu-library/4.0’\n",
      "(as ‘lib’ is unspecified)\n",
      "also installing the dependencies ‘igraph’, ‘networkD3’\n",
      "\n",
      "Warning message in install.packages(\"DataExplorer\"):\n",
      "“installation of package ‘igraph’ had non-zero exit status”Warning message in install.packages(\"DataExplorer\"):\n",
      "“installation of package ‘networkD3’ had non-zero exit status”Warning message in install.packages(\"DataExplorer\"):\n",
      "“installation of package ‘DataExplorer’ had non-zero exit status”Installing package into ‘/home/song718/R/x86_64-pc-linux-gnu-library/4.0’\n",
      "(as ‘lib’ is unspecified)\n",
      "Installing package into ‘/home/song718/R/x86_64-pc-linux-gnu-library/4.0’\n",
      "(as ‘lib’ is unspecified)\n"
     ]
    }
   ],
   "source": [
    "install.packages(\"DataExplorer\")\n",
    "install.packages(\"readr\")\n",
    "install.packages(\"jsonlite\")"
   ]
  },
  {
   "cell_type": "code",
   "execution_count": 4,
   "metadata": {},
   "outputs": [
    {
     "ename": "ERROR",
     "evalue": "Error in fromJSON(sprintf(\"[%s]\", paste(readLines(rtr_file), collapse = \",\"))): could not find function \"fromJSON\"\n",
     "output_type": "error",
     "traceback": [
      "Error in fromJSON(sprintf(\"[%s]\", paste(readLines(rtr_file), collapse = \",\"))): could not find function \"fromJSON\"\nTraceback:\n"
     ]
    }
   ],
   "source": [
    "#library(DataExplorer)\n",
    "#library(readr)\n",
    "#library(jsonlite)\n",
    "#library(stringr)\n",
    "\n",
    "# Reading File\n",
    "mc_file <- \"depot/tdm-ff/data/modcloth_final_data.json\"\n",
    "mc <- fromJSON(sprintf(\"[%s]\", paste(readLines(mc_file), collapse=\",\")))\n",
    "\n",
    "print(head(mc))\n",
    "print(colnames(mc))\n",
    "print(summary(mc))\n",
    "\n",
    "# Selecting Columns\n",
    "mc_data <- mc[, c(\"item_id\",\"waist\",\"size\",\"quality\",\"cup size\",\"hips\",\"bra size\",\"category\",      \n",
    "                  \"bust\",\"height\",\"length\", \"fit\",\"shoe size\",\"shoe width\" )]\n",
    "\n",
    "print(head(mc_data))\n",
    "# Refining Data\n",
    "\n",
    "### Character -> Factor\n",
    "\n",
    "mc_data$item_id <- as.numeric(mc_data$item_id)\n",
    "mc_data$waist <- as.numeric(mc_data$waist)\n",
    "mc_data$size <- as.numeric(mc_data$size)\n",
    "mc_data$quality <- as.numeric(mc_data$quality)\n",
    "mc_data$`cup size` <- factor(mc_data$`cup size`)\n",
    "mc_data$hips <- as.numeric(mc_data$hips)\n",
    "mc_data$`bra size` <- as.numeric(mc_data$`bra size`)\n",
    "mc_data$category <- factor(mc_data$category)\n",
    "mc_data$bust <- as.numeric(mc_data$bust)\n",
    "mc_data$height <- str_remove(mc_data$height, \"ft \")\n",
    "mc_data$height <- str_remove(mc_data$height, \"in\")\n",
    "mc_data$height <- as.numeric(mc_data$height)\n",
    "mc_data$length <- factor(mc_data$length)\n",
    "mc_data$fit <- factor(mc_data$fit)\n",
    "mc_data$`shoe size` <- as.numeric(mc_data$`shoe size`)\n",
    "mc_data$`shoe width` <- as.numeric(mc_data$`shoe width`)\n",
    "\n",
    "str(mc_data)\n",
    "\n",
    "# Creating Report\n",
    "create_report(mc_data)\n",
    "\n",
    "\n",
    "\n",
    "str(mc_data)\n",
    "summary(mc_data)\n",
    "sum(is.na(mc_data$`shoe width`))\n",
    "\n",
    "###\n",
    "\n",
    "# Deleting Missing Values\n",
    "mc_data_rmna <- na.omit(mc_data)\n",
    "create_report(mc_data_rmna)\n"
   ]
  },
  {
   "cell_type": "code",
   "execution_count": null,
   "metadata": {
    "collapsed": true
   },
   "outputs": [],
   "source": [
    "# Deleting Missing Values\n",
    "mc_data_rmna <- na.omit(mc_data)\n",
    "create_report(mc_data_rmna)"
   ]
  }
 ],
 "metadata": {
  "kernelspec": {
   "display_name": "R 4.0.0",
   "language": "R",
   "name": "ir-4.0.0"
  },
  "language_info": {
   "codemirror_mode": "r",
   "file_extension": ".r",
   "mimetype": "text/x-r-source",
   "name": "R",
   "pygments_lexer": "r",
   "version": "4.0.0"
  }
 },
 "nbformat": 4,
 "nbformat_minor": 2
}
